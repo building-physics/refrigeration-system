{
 "cells": [
  {
   "cell_type": "markdown",
   "id": "467cbbe7",
   "metadata": {},
   "source": [
    "# OpenStudio Refrigeration System Modeling and JSON Generator \n",
    "# Step-by-Step Guide\n",
    "\n",
    "<span style=\"font-size:18px\"> This notebook provides a structured workflow to generate and export OpenStudio-compatible JSON files for supermarket refrigeration systems. \n",
    "\n",
    "**Key modules:**\n",
    "- Compressor and performance curve generation\n",
    "- Condenser and fan curve logic\n",
    "- Rack assignment based on thermal loads\n",
    "- Case and Walk-in object creation\n",
    "- Full refrigeration system assembly and export\n",
    "\n",
    "</span>\n",
    "\n",
    "## Practical Applications\n",
    "\n",
    "This framework can be applied to multiple real-world use cases:\n",
    "\n",
    "- **🔧 Practical Refrigeration Design**  \n",
    "  Engineers and energy consultants can use the generated components to design and evaluate supermarket refrigeration systems under different templates (old, new, advanced).\n",
    "\n",
    "- **🏗️ OpenStudio Energy Modeling**  \n",
    "  The JSON objects generated here are fully compatible with OpenStudio's v0.2.1 schema, allowing integration into broader building energy simulation models. This is especially useful for load estimation, retrofit analysis, and performance benchmarking.\n",
    "\n",
    "By automating object creation and tying it to real data and configurable templates, this tool serves as a bridge between design-level thinking and simulation-level precision.\n",
    "\n",
    "### Mode Selection: How to Start\n",
    "The modeling framework provides **two modes of operation** for flexibility and ease of use:\n",
    "\n",
    "- **Automated Mode (Automated)**  \n",
    "  This default mode automatically sets up a predefined SuperMarket configuration. It includes rack assignments, case/walk-in units, and refrigerant templates tailored for typical SuperMarket systems.  \n",
    "  ✅ Ideal for quick scenario evaluations or template-based simulations.\n",
    "\n",
    "- 🎛️ **User-Defined Mode (Manual Input)**  \n",
    "  This mode allows the user to interactively choose specific refrigeration cases and walk-ins, define custom system configurations, and select desired templates.  \n",
    "  ✅ Best for detailed, user-controlled modeling and custom design cases.\n",
    "\n",
    "> These modes make the tool versatile for both **practical refrigeration system design** and **OpenStudio simulation workflows**, helping users make informed retrofit or maintenance decisions."
   ]
  },
  {
   "cell_type": "markdown",
   "id": "b9d307dd",
   "metadata": {},
   "source": [
    "## Step 1: Imports & Setup\n",
    "Import required modules and set your database path."
   ]
  },
  {
   "cell_type": "code",
   "execution_count": null,
   "id": "7050601e",
   "metadata": {},
   "outputs": [],
   "source": [
    "import sys\n",
    "sys.path.append(\".\")\n",
    "from refrigeration.mode_selection import (\n",
    "    automated_mode,\n",
    "    user_mode,\n",
    "    get_valid_template,\n",
    "    select_test_mode\n",
    ")\n",
    "from refrigeration.rack_assignment import (\n",
    "    assign_racks_to_cases_and_walkins,\n",
    "    display_rack_capacity\n",
    ")\n",
    "from refrigeration.compressor import (\n",
    "    summarize_compressor_assignment,\n",
    "    prepare_and_store_compressor_objects,\n",
    "    load_and_print_compressor_curves\n",
    ")\n",
    "from refrigeration.condenser import prepare_and_store_condenser_objects\n",
    "from refrigeration.case_walkin_objects import (\n",
    "    generate_case_objects_from_data,\n",
    "    generate_walkin_objects_from_data,\n",
    "    prepare_and_store_case_and_walkin_objects\n",
    ")\n",
    "from refrigeration.system_objects import (\n",
    "    prepare_and_store_system_and_casewalkin_lists,\n",
    "    generate_system_and_casewalkin_lists\n",
    ")\n",
    "from refrigeration.json_io import (\n",
    "    export_existing_compressors_to_json,\n",
    "    export_existing_condensers_to_json,\n",
    "    export_cases_and_walkins_to_json,\n",
    "    export_system_and_casewalkin_lists_to_json\n",
    ")\n",
    "from refrigeration.full_export import export_full_refrigeration_system_to_json\n",
    "from refrigeration.utils import get_building_name, clean_name, generate_available_units_markdown\n",
    "\n",
    "# set DB path \n",
    "db_path = \"database/openstudio_refrigeration_system.db\""
   ]
  },
  {
   "cell_type": "markdown",
   "id": "5b15a7a5",
   "metadata": {},
   "source": [
    "## Step 2: Select Mode (User / Automated)\n",
    "Run either user_mode() or automated_mode() to proceed.\n",
    "\n",
    "In this step, you’ll choose which refrigeration and freezer units to include and define the system template (Old, New, or Advanced).\n",
    "\n",
    "- In **User mode**, you can manually select the units you want.\n",
    "\n",
    "- In **Automated mode**, a default setup for the SuperMarket will be loaded automatically.\n",
    "\n",
    "The selected template determines assumptions for performance curves and temperature settings, which will be used in later simulations and analysis.\n",
    "\n",
    "<h2>🧊 Available Refrigeration Units</h2>\n",
    "<h3>🔹 Available Cases</h3>\n",
    "\n",
    "<div style=\"display: flex; justify-content: space-between; gap: 4%;\">\n",
    "\n",
    "  <div style=\"width: 48%;\">\n",
    "    <h4>Old/New System Templates</h4>\n",
    "    <ul>\n",
    "      <li>LT Coffin - Frozen Food</li>\n",
    "      <li>LT Coffin - Ice Cream</li>\n",
    "      <li>LT Reach-in - Frozen Food</li>\n",
    "      <li>LT Reach-in - Ice Cream</li>\n",
    "      <li>MT Island - Deli Produce</li>\n",
    "      <li>MT Reach-in - Dairy Deli Beverage Case</li>\n",
    "      <li>MT Service - Meat Deli Bakery</li>\n",
    "      <li>MT Vertical Open - All</li>\n",
    "    </ul>\n",
    "  </div>\n",
    "\n",
    "  <div style=\"width: 48%;\">\n",
    "    <h4>Advanced System Template</h4>\n",
    "    <ul>\n",
    "      <li>LT Coffin - Frozen Food</li>\n",
    "      <li>LT Coffin - Ice Cream</li>\n",
    "      <li>LT Reach-in - Frozen Food</li>\n",
    "      <li>LT Reach-in - Ice Cream</li>\n",
    "      <li>MT Island - Deli Produce</li>\n",
    "      <li>MT Reach-in - Meat</li>\n",
    "      <li>MT Reach-in - Others</li>\n",
    "      <li>MT Service - Meat</li>\n",
    "      <li>MT Service - Others</li>\n",
    "      <li>MT Vertical Open - Beverage</li>\n",
    "      <li>MT Vertical Open - Meat</li>\n",
    "      <li>MT Vertical Open - Others</li>\n",
    "    </ul>\n",
    "  </div>\n",
    "\n",
    "</div>\n",
    "\n",
    "<h3>🧊 Available Walk-ins</h3>\n",
    "<h4>For Old, New, and Advanced System Templates</h4>\n",
    "<div style=\"display: flex; justify-content: space-between; gap: 4%;\">\n",
    "\n",
    "  <div style=\"width: 48%;\">\n",
    "    <ul>\n",
    "      <li>LT Walk-in Freezer - 120SF</li>\n",
    "      <li>LT Walk-in Freezer - 240SF</li>\n",
    "      <li>LT Walk-in Freezer - 360SF</li>\n",
    "      <li>LT Walk-in Freezer - 480SF</li>\n",
    "      <li>LT Walk-in Freezer - 80SF</li>\n",
    "      <li>MT Walk-in Cooler - 100SF with glass door</li>\n",
    "      <li>MT Walk-in Cooler - 100SF with no glass door</li>\n",
    "      <li>MT Walk-in Cooler - 120SF with glass door</li>\n",
    "      <li>MT Walk-in Cooler - 120SF with no glass door</li>\n",
    "      <li>MT Walk-in Cooler - 240SF with glass door</li>\n",
    "      <li>MT Walk-in Cooler - 240SF with no glass door</li>\n",
    "      <li>MT Walk-in Cooler - 360SF with glass door</li>\n",
    "      <li>MT Walk-in Cooler - 360SF with no glass door</li>\n",
    "    </ul>\n",
    "  </div>\n",
    "\n",
    "  <div style=\"width: 48%;\">\n",
    "    <ul>\n",
    "      <li>MT Walk-in Cooler - 400SF with glass door</li>\n",
    "      <li>MT Walk-in Cooler - 400SF with no glass door</li>\n",
    "      <li>MT Walk-in Cooler - 480SF with glass door</li>\n",
    "      <li>MT Walk-in Cooler - 480SF with no glass door</li>\n",
    "      <li>MT Walk-in Cooler - 600SF with glass door</li>\n",
    "      <li>MT Walk-in Cooler - 600SF with no glass door</li>\n",
    "      <li>MT Walk-in Cooler - 64SF with glass door</li>\n",
    "      <li>MT Walk-in Cooler - 64SF with no glass door</li>\n",
    "      <li>MT Walk-in Cooler - 660SF with glass door</li>\n",
    "      <li>MT Walk-in Cooler - 660SF with no glass door</li>\n",
    "      <li>MT Walk-in Cooler - 80SF with glass door</li>\n",
    "      <li>MT Walk-in Cooler - 80SF with no glass door</li>\n",
    "    </ul>\n",
    "  </div>\n",
    "\n",
    "</div>\n",
    "\n",
    "### 📌 User Selection Mode – Input Format\n",
    "Each line should follow this format:\n",
    "\n",
    ">$<$unit name$>$, $<$number of units$>$\n",
    "\n",
    "**Examples**\n",
    "- LT Coffin - Frozen Food, 2 \n",
    "- MT Vertical Open - Beverage, 3\n",
    "- LT Walk-in Freezer - 240SF, 1\n",
    "- MT Walk-in Cooler - 360SF with glass door, 2\n",
    "\n",
    "👉 Please refer to `example_user_mode.ipynb` and `example_automated_mode.ipynb` for two example scenarios."
   ]
  },
  {
   "cell_type": "code",
   "execution_count": null,
   "id": "753be3cf",
   "metadata": {
    "scrolled": true
   },
   "outputs": [],
   "source": [
    "mode = select_test_mode()\n",
    "\n",
    "if mode == \"user\":\n",
    "    selected_case_units, selected_walkin_units, selected_template = user_mode()\n",
    "elif mode == \"automated\":\n",
    "    selected_case_units, selected_walkin_units, selected_template = automated_mode(db_path)\n",
    "\n",
    "# Selected Case Units\n",
    "print(\"\\nSelected Case Units:\")\n",
    "for unit in selected_case_units:\n",
    "    print(f\"\\\"osm name\\\": \\\"{unit.osm_name}\\\", \\\"case_name\\\": \\\"{unit.case_name}\\\", \\\"number_of_units\\\": {unit.number_of_units}\")\n",
    "\n",
    "# Selected Walk-in Units\n",
    "print(\"\\nSelected Walk-in Units:\")\n",
    "for unit in selected_walkin_units:\n",
    "    print(f\"\\\"osm name\\\": \\\"{unit.osm_name}\\\", \\\"walkin_name\\\": \\\"{unit.walkin_name}\\\", \\\"number_of_units\\\": {unit.number_of_units}\")"
   ]
  },
  {
   "cell_type": "markdown",
   "id": "18481b06",
   "metadata": {},
   "source": [
    "## Step 3: Rack Assignment\n",
    "Determine the total Medium Temperature (MT) and Low Temperature (LT) load requirements for each rack.  \n",
    "This is a critical preprocessing step used to size compressors appropriately based on system demand.\n",
    "\n",
    "Using the `summarize_compressor_assignment()` function, it performs:\n",
    "\n",
    "- ✅ Aggregation of cooling loads for each rack based on assigned cases and walk-ins\n",
    "- ✅ Structuring the rack info as input to compressor generation logic"
   ]
  },
  {
   "cell_type": "code",
   "execution_count": null,
   "id": "cbe7c38f",
   "metadata": {},
   "outputs": [],
   "source": [
    "# Assign refrigeration units to racks and retrieve updated data\n",
    "mt_racks, lt_racks, case_data, walkin_data = assign_racks_to_cases_and_walkins(\n",
    "    db_path, selected_case_units, selected_walkin_units\n",
    ")\n",
    "\n",
    "# display capacity distribution for assigned racks\n",
    "display_rack_capacity(mt_racks, selected_case_units, rack_type=\"MT\")\n",
    "display_rack_capacity(lt_racks, selected_walkin_units, rack_type=\"LT\")"
   ]
  },
  {
   "cell_type": "markdown",
   "id": "46b8966e",
   "metadata": {},
   "source": [
    "# Step 4: Generate and Store Case and Walk-in objects\n",
    "This step converts the **database-retrieved information** and **user-selected unit configurations** into OpenStudio-compatible `Refrigeration:Case` and `Refrigeration:WalkIn` JSON objects.\n",
    "\n",
    "Using the `prepare_and_store_case_and_walkin_objects()` function, it performs:\n",
    "- ✅ Mapping of each unit to its respective thermal zone\n",
    "- ✅ Inclusion of case/walk-in properties like capacity, fan power, lighting, defrost schedule, etc.\n",
    "- ✅ Output in OpenStudio object format for downstream JSON export"
   ]
  },
  {
   "cell_type": "code",
   "execution_count": null,
   "id": "e063ba57",
   "metadata": {},
   "outputs": [],
   "source": [
    "result = prepare_and_store_case_and_walkin_objects(case_data, walkin_data, selected_case_units, selected_walkin_units)\n",
    "case_objects = result[\"case_objects\"]\n",
    "walkin_objects = result[\"walkin_objects\"]"
   ]
  },
  {
   "cell_type": "markdown",
   "id": "3fd7d4f7",
   "metadata": {},
   "source": [
    "## Preview and export Case and Walk-in object in JSON format\n",
    "This step takes the `case_objects` and `walkin_objects` generated in Step 4 and combines them with the thermal zones into a single JSON structure.\n",
    "\n",
    "Using the `export_cases_and_walkins_to_json()` function, it:\n",
    "\n",
    "- ✅ Assigns the `MainSales` and `ActiveStorage` zones to refrigeration cases and walk-ins\n",
    "- ✅ Adds all `Refrigeration:Case` and `Refrigeration:WalkIn` objects\n",
    "- ✅ Outputs a clean, OpenStudio-compatible `.json` file for integration or preview."
   ]
  },
  {
   "cell_type": "code",
   "execution_count": null,
   "id": "bec07a9d",
   "metadata": {},
   "outputs": [],
   "source": [
    "export_cases_and_walkins_to_json(case_objects, walkin_objects, output_path=\"All_Cases_Walkins.json\")"
   ]
  },
  {
   "cell_type": "markdown",
   "id": "1f1d9670",
   "metadata": {},
   "source": [
    "# Step 5: Generate Compressor Objects\n",
    "This step focuses on the creation of compressor objects and their associated performance curves, based on the assigned refrigeration racks and the selected system template.\n",
    "\n",
    "Key operations include:\n",
    "- Aggregating rack load information to determine compressor sizing and configuration.\n",
    "- Retrieving performance curve data from the system database, aligned with the selected design template.\n",
    "- Constructing `OS:Refrigeration:Compressor` objects and associated `OS:Curve:Bicubic` definitions suitable for OpenStudio simulation.\n",
    "- Exporting all generated components into a structured JSON file for model preview, integration, or further analysis."
   ]
  },
  {
   "cell_type": "markdown",
   "id": "1d3703b2",
   "metadata": {},
   "source": [
    "## Rack Assignment Summary\n",
    "Determine the total Medium Temperature (MT) and Low Temperature (LT) load requirements for each rack.  \n",
    "This step ensures compressors are correctly sized according to the system’s refrigeration demand.\n",
    "\n",
    "Using the `summarize_compressor_assignment()` function, it:\n",
    "\n",
    "✅ Aggregates cooling loads across all assigned cases and walk-ins  \n",
    "✅ Separates data into MT and LT groups  \n",
    "✅ Outputs rack-wise load information required for compressor object generation"
   ]
  },
  {
   "cell_type": "code",
   "execution_count": null,
   "id": "28c11afc",
   "metadata": {},
   "outputs": [],
   "source": [
    "mt_info, lt_info = summarize_compressor_assignment(mt_racks, lt_racks, selected_template) "
   ]
  },
  {
   "cell_type": "markdown",
   "id": "47811663",
   "metadata": {},
   "source": [
    "## Compressor Curve Generation\n",
    "This step retrieves the power and capacity performance curves for both MT and LT compressors based on the selected system template (`old`, `new`, or `advanced`).\n",
    "\n",
    "Using the `load_and_print_compressor_curves()` function, it performs:\n",
    "\n",
    "- ✅ Querying of compressor curve data from the database\n",
    "- ✅ Extraction of `OS:Curve:Bicubic` JSON objects for both power and capacity\n",
    "- ✅ Returns four curve objects ready for use in compressor creation"
   ]
  },
  {
   "cell_type": "code",
   "execution_count": null,
   "id": "99aaf631",
   "metadata": {},
   "outputs": [],
   "source": [
    "mt_power_curve, mt_capacity_curve, lt_power_curve, lt_capacity_curve = \\\n",
    "    load_and_print_compressor_curves(db_path, selected_template)"
   ]
  },
  {
   "cell_type": "markdown",
   "id": "ef94fad8",
   "metadata": {},
   "source": [
    "## Generate and Store Compressor Objects\n",
    "This step creates the actual compressor objects using the previously assigned rack loads and loaded performance curves, structured for OpenStudio compatibility.\n",
    "\n",
    "Using the `prepare_and_store_compressor_objects()` function, it performs:\n",
    "\n",
    "- ✅ Generation of `OS:Refrigeration:Compressor` objects for MT and LT racks\n",
    "- ✅ Assignment of suction temperatures and compressor performance curves\n",
    "- ✅ Returns objects as structured Python dictionaries ready for export"
   ]
  },
  {
   "cell_type": "code",
   "execution_count": null,
   "id": "e87d00d4",
   "metadata": {},
   "outputs": [],
   "source": [
    "result = prepare_and_store_compressor_objects(mt_info, lt_info, selected_template, db_path)\n",
    "mt_compressors = result[\"mt_compressors\"]\n",
    "lt_compressors = result[\"lt_compressors\"]\n",
    "mt_power_curve = result[\"mt_power_curve\"]\n",
    "mt_capacity_curve = result[\"mt_capacity_curve\"]\n",
    "lt_power_curve = result[\"lt_power_curve\"]\n",
    "lt_capacity_curve = result[\"lt_capacity_curve\"]"
   ]
  },
  {
   "cell_type": "markdown",
   "id": "02751e0e",
   "metadata": {},
   "source": [
    "## Preview and export Compressor Objects in JSON format\n",
    "This step takes the `mt_compressors`, `lt_compressors`, and their associated performance curves generated in Step 5 and merges them with thermal zones into a unified OpenStudio-compatible JSON structure.\n",
    "Using the `export_existing_compressors_to_json()` function, it:\n",
    "\n",
    "- ✅ Includes all `OS:Refrigeration:Compressor` objects\n",
    "- ✅ Adds associated `OS:Curve:Bicubic` performance curves\n",
    "- ✅ Assigns the `MainSales` and `ActiveStorage` thermal zones\n",
    "- ✅ Outputs a clean, OpenStudio-compatible `.json` file for integration or preview."
   ]
  },
  {
   "cell_type": "code",
   "execution_count": null,
   "id": "c92d908c",
   "metadata": {},
   "outputs": [],
   "source": [
    "export_existing_compressors_to_json(\n",
    "    mt_compressors=mt_compressors,\n",
    "    lt_compressors=lt_compressors,\n",
    "    mt_power_curve=mt_power_curve,\n",
    "    mt_capacity_curve=mt_capacity_curve,\n",
    "    lt_power_curve=lt_power_curve,\n",
    "    lt_capacity_curve=lt_capacity_curve,\n",
    "    output_path=\"All_Compressors.json\"\n",
    ")"
   ]
  },
  {
   "cell_type": "markdown",
   "id": "59fe6e5b",
   "metadata": {},
   "source": [
    "# Step 6: Generate Condenser Objects\n",
    "This step handles the creation of air-cooled condenser objects and their associated fan power curves based on the rack load and system type (MT or LT).\n",
    "Key operations include:\n",
    "- Calculate condenser capacity based on assigned rack loads.\n",
    "- Generate `OS:Refrigeration:Condenser:AirCooled` objects for each rack.\n",
    "- Create `OS:Curve:Linear` fan power curves linked to each condenser.\n",
    "- Export everything to JSON format for preview or downstream use."
   ]
  },
  {
   "cell_type": "markdown",
   "id": "1bef5bad",
   "metadata": {},
   "source": [
    "## Generate and store Condenser Objects\n",
    "This step generates OpenStudio-compatible air-cooled condenser objects and their associated fan power curves.\n",
    "\n",
    "Using the `prepare_and_store_condenser_objects()` function, it performs:\n",
    "\n",
    "- ✅ Calculates condenser capacity and fan power based on MT/LT rack loads  \n",
    "- ✅ Creates `OS:Refrigeration:Condenser:AirCooled` and corresponding `OS:Curve:Linear` objects  \n",
    "- ✅ Outputs Python dictionaries for use in JSON export"
   ]
  },
  {
   "cell_type": "code",
   "execution_count": null,
   "id": "7cf9b49c",
   "metadata": {},
   "outputs": [],
   "source": [
    "result = prepare_and_store_condenser_objects(mt_info, lt_info, selected_template)\n",
    "mt_condensers = result[\"mt_condensers\"]\n",
    "lt_condensers = result[\"lt_condensers\"]\n",
    "mt_curves = result[\"mt_curves\"]\n",
    "lt_curves = result[\"lt_curves\"]"
   ]
  },
  {
   "cell_type": "markdown",
   "id": "2a84e355",
   "metadata": {},
   "source": [
    "## Preview and export Compressor objects in JSON format\n",
    "This step generates condenser objects and their curves into a single OpenStudio-compatible JSON structure.\n",
    "\n",
    "Using the `export_existing_condensers_to_json()` function, it:\n",
    "\n",
    "- ✅ Includes all `OS:Refrigeration:Condenser:AirCooled` objects  \n",
    "- ✅ Adds associated `OS:Curve:Linear` fan curves  \n",
    "- ✅ Assigns the `MainSales` and `ActiveStorage` thermal zones  \n",
    "- ✅ Outputs a clean, OpenStudio-compatible `.json` file for integration or preview."
   ]
  },
  {
   "cell_type": "code",
   "execution_count": null,
   "id": "fa39d00a",
   "metadata": {},
   "outputs": [],
   "source": [
    "export_existing_condensers_to_json(\n",
    "    mt_condensers=mt_condensers,\n",
    "    lt_condensers=lt_condensers,\n",
    "    mt_curves=mt_curves,\n",
    "    lt_curves=lt_curves,\n",
    "    output_path=\"All_Condensers.json\"\n",
    ")"
   ]
  },
  {
   "cell_type": "markdown",
   "id": "57d8e9e0",
   "metadata": {},
   "source": [
    "# Step 7: Generate and Store Refrigeration Systems and Case/Walkin Lists\n",
    "This step creates OpenStudio `OS:Refrigeration:System` objects and their associated `CaseAndWalkInList` objects by linking selected case/walk-in units to each compressor rack.\n",
    "\n",
    "Using the `prepare_and_store_system_and_casewalkin_lists()` function, it performs:\n",
    "\n",
    "- ✅ Maps each case and walk-in unit to its appropriate MT or LT rack  \n",
    "- ✅ Assigns suction and condensing temperatures based on the system template  \n",
    "- ✅ Generates `OS:Refrigeration:System` and `OS:Refrigeration:CaseAndWalkInList` objects  \n",
    "- ✅ Returns Python objects for JSON export"
   ]
  },
  {
   "cell_type": "code",
   "execution_count": null,
   "id": "670a06f1",
   "metadata": {},
   "outputs": [],
   "source": [
    "system_and_casewalkin_objects = prepare_and_store_system_and_casewalkin_lists(\n",
    "    selected_case_units,\n",
    "    selected_walkin_units,\n",
    "    mt_racks,\n",
    "    lt_racks,\n",
    "    selected_template\n",
    ")"
   ]
  },
  {
   "cell_type": "markdown",
   "id": "cffb60d9",
   "metadata": {},
   "source": [
    "## Preview and export Systems and Case/Walkin objects in JSON format\n",
    "This step saves all generated refrigeration system objects and their case/walk-in lists into a clean OpenStudio-compatible JSON structure.\n",
    "\n",
    "Using the `export_system_and_casewalkin_lists_to_json()` function, it:\n",
    "\n",
    "- ✅ Includes all `OS:Refrigeration:System` and `OS:Refrigeration:CaseAndWalkInList` objects  \n",
    "- ✅ Assigns all associated case/walk-in names per rack  \n",
    "- ✅ Outputs a clean, OpenStudio-compatible `.json` file for integration or preview."
   ]
  },
  {
   "cell_type": "code",
   "execution_count": null,
   "id": "a047fc3f",
   "metadata": {},
   "outputs": [],
   "source": [
    "export_system_and_casewalkin_lists_to_json(system_and_casewalkin_objects, \"System_and_CaseWalkin_Lists.json\")"
   ]
  },
  {
   "cell_type": "markdown",
   "id": "b77d86d4",
   "metadata": {},
   "source": [
    "# Step 8: Preivew and Export FULL Refrigeration system JSON Files\n",
    "This final step consolidates all previously generated OpenStudio objects—including compressors, condensers, performance curves, refrigeration cases, walk-ins, and systems—into a single JSON file for full system integration or simulation.\n",
    "\n",
    "Using the `export_full_refrigeration_system_to_json()` function, it:\n",
    "\n",
    "- ✅ Combines all `OS:Refrigeration:Compressor`, `OS:Refrigeration:Condenser:AirCooled`, and related `OS:Curve` objects  \n",
    "- ✅ Includes all `OS:Refrigeration:Case`, `OS:Refrigeration:WalkIn`, and their thermal zone assignments  \n",
    "- ✅ Merges all `OS:Refrigeration:System` and `OS:Refrigeration:CaseAndWalkInList` components  \n",
    "- ✅ Outputs a complete, OpenStudio-compatible `.json` file for simulation or design analysis\n"
   ]
  },
  {
   "cell_type": "code",
   "execution_count": null,
   "id": "917053fb",
   "metadata": {
    "scrolled": true
   },
   "outputs": [],
   "source": [
    "export_full_refrigeration_system_to_json(\n",
    "    mt_compressors=mt_compressors,\n",
    "    lt_compressors=lt_compressors,\n",
    "    mt_power_curve=mt_power_curve,\n",
    "    mt_capacity_curve=mt_capacity_curve,\n",
    "    lt_power_curve=lt_power_curve,\n",
    "    lt_capacity_curve=lt_capacity_curve,\n",
    "    mt_condensers=mt_condensers,\n",
    "    lt_condensers=lt_condensers,\n",
    "    mt_curves=mt_curves,\n",
    "    lt_curves=lt_curves,\n",
    "    case_objects=case_objects,\n",
    "    walkin_objects=walkin_objects,\n",
    "    system_and_casewalkin_objects=system_and_casewalkin_objects,\n",
    "    output_path=\"Full_Refrigeration_System.json\"\n",
    ")\n",
    "\n",
    "print(\"🏁 Refrigeration JSON export complete.\")\n",
    "print(f\"Building: {get_building_name()}\")"
   ]
  }
 ],
 "metadata": {
  "kernelspec": {
   "display_name": "Python 3 (ipykernel)",
   "language": "python",
   "name": "python3"
  },
  "language_info": {
   "codemirror_mode": {
    "name": "ipython",
    "version": 3
   },
   "file_extension": ".py",
   "mimetype": "text/x-python",
   "name": "python",
   "nbconvert_exporter": "python",
   "pygments_lexer": "ipython3",
   "version": "3.12.3"
  }
 },
 "nbformat": 4,
 "nbformat_minor": 5
}
