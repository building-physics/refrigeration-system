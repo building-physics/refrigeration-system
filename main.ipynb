{
 "cells": [
  {
   "cell_type": "markdown",
   "id": "467cbbe7",
   "metadata": {},
   "source": [
    "# OpenStudio Refrigeration System Modeling - Main Execution Notebook\n",
    "\n",
    "This notebook guides you through the full pipeline for generating refrigeration system JSON files using either:\n",
    "- **SuperMarket mode** (automated)\n",
    "- **User-defined mode** (manual input)"
   ]
  },
  {
   "cell_type": "markdown",
   "id": "b9d307dd",
   "metadata": {},
   "source": [
    "## Step 1: Imports & Setup"
   ]
  },
  {
   "cell_type": "code",
   "execution_count": 1,
   "id": "7050601e",
   "metadata": {},
   "outputs": [],
   "source": [
    "import sys\n",
    "sys.path.append(\".\")\n",
    "from refrigeration.mode_selection import (\n",
    "    automated_mode,\n",
    "    user_mode,\n",
    "    get_valid_template,\n",
    "    select_test_mode\n",
    ")\n",
    "from refrigeration.rack_assignment import (\n",
    "    assign_racks_to_cases_and_walkins,\n",
    "    display_rack_capacity\n",
    ")\n",
    "from refrigeration.compressor import (\n",
    "    summarize_compressor_assignment,\n",
    "    prepare_and_store_compressor_objects\n",
    ")\n",
    "from refrigeration.condenser import prepare_and_store_condenser_objects\n",
    "from refrigeration.case_walkin_objects import (\n",
    "    generate_case_objects_from_data,\n",
    "    generate_walkin_objects_from_data,\n",
    "    prepare_and_store_case_and_walkin_objects\n",
    ")\n",
    "from refrigeration.system_objects import (\n",
    "    prepare_and_store_system_and_casewalkin_lists,\n",
    "    generate_system_and_casewalkin_lists\n",
    ")\n",
    "from refrigeration.json_io import (\n",
    "    export_existing_compressors_to_json,\n",
    "    export_existing_condensers_to_json,\n",
    "    export_cases_and_walkins_to_json,\n",
    "    export_system_and_casewalkin_lists_to_json\n",
    ")\n",
    "from refrigeration.full_export import export_full_refrigeration_system_to_json\n",
    "from refrigeration.utils import get_building_name\n",
    "\n",
    "# set DB path \n",
    "db_path = \"database/openstudio_refrigeration_system.db\""
   ]
  },
  {
   "cell_type": "markdown",
   "id": "5b15a7a5",
   "metadata": {},
   "source": [
    "## Step 2: Select Mode (User / Automated)"
   ]
  },
  {
   "cell_type": "code",
   "execution_count": 2,
   "id": "753be3cf",
   "metadata": {},
   "outputs": [
    {
     "name": "stdout",
     "output_type": "stream",
     "text": [
      "Select test mode (user/automated): automated\n",
      "Choose building type:\n",
      "1. SuperMarket\n",
      "2. TBD\n",
      "Enter the number of your choice: 1\n",
      "Chosen building type: SuperMarket\n",
      "Choose template (old/new/advanced): advanced\n",
      "\n",
      "Selected Case Units:\n",
      "\"osm name\": \"SuperMarket advanced LT Coffin - Ice Cream - Ice Cream\", \"case_name\": \"advanced LT Coffin - Ice Cream\", \"number_of_units\": 1.0\n",
      "\"osm name\": \"SuperMarket advanced LT Reach-In - Ice Cream - Ice Cream\", \"case_name\": \"advanced LT Reach-In - Ice Cream\", \"number_of_units\": 14.0\n",
      "\"osm name\": \"SuperMarket advanced LT Reach-In - Frozen Food - Frozen Food\", \"case_name\": \"advanced LT Reach-In - Frozen Food\", \"number_of_units\": 14.0\n",
      "\"osm name\": \"SuperMarket advanced MT Island - Deli Produce Case - Deli\", \"case_name\": \"advanced MT Island - Deli Produce Case\", \"number_of_units\": 14.0\n",
      "\"osm name\": \"SuperMarket advanced MT Island - Deli Produce Case - Produce\", \"case_name\": \"advanced MT Island - Deli Produce Case\", \"number_of_units\": 10.0\n",
      "\"osm name\": \"SuperMarket advanced MT Service - Meat - Meat\", \"case_name\": \"advanced MT Service - Meat\", \"number_of_units\": 3.0\n",
      "\"osm name\": \"SuperMarket advanced MT Service - Others - Deli\", \"case_name\": \"advanced MT Service - Others\", \"number_of_units\": 5.0\n",
      "\"osm name\": \"SuperMarket advanced MT Service - Others - Bakery\", \"case_name\": \"advanced MT Service - Others\", \"number_of_units\": 1.0\n",
      "\"osm name\": \"SuperMarket advanced MT Vertical Open - Meat - Meat\", \"case_name\": \"advanced MT Vertical Open - Meat\", \"number_of_units\": 6.0\n",
      "\"osm name\": \"SuperMarket advanced MT Vertical Open - Beverage - Beverage\", \"case_name\": \"advanced MT Vertical Open - Beverage\", \"number_of_units\": 2.0\n",
      "\"osm name\": \"SuperMarket advanced MT Vertical Open - Others - Dairy\", \"case_name\": \"advanced MT Vertical Open - Others\", \"number_of_units\": 7.0\n",
      "\"osm name\": \"SuperMarket advanced MT Vertical Open - Others - Salad\", \"case_name\": \"advanced MT Vertical Open - Others\", \"number_of_units\": 6.0\n",
      "\"osm name\": \"SuperMarket advanced MT Vertical Open - Others - Floral\", \"case_name\": \"advanced MT Vertical Open - Others\", \"number_of_units\": 2.0\n",
      "\"osm name\": \"SuperMarket advanced MT Vertical Open - Others - Prepared Foods\", \"case_name\": \"advanced MT Vertical Open - Others\", \"number_of_units\": 7.0\n",
      "\n",
      "Selected Walk-in Units:\n",
      "\"osm name\": \"SuperMarket advanced LT Walk-in Freezer 120SF - Bakery\", \"walkin_name\": \"advanced LT Walk-in Freezer 120SF\", \"number_of_units\": 1\n",
      "\"osm name\": \"SuperMarket advanced LT Walk-in Freezer 480SF - All\", \"walkin_name\": \"advanced LT Walk-in Freezer 480SF\", \"number_of_units\": 1\n",
      "\"osm name\": \"SuperMarket advanced MT Walk-in Cooler - 64SF with no glass door - Bloom Box\", \"walkin_name\": \"advanced MT Walk-in Cooler - 64SF with no glass door\", \"number_of_units\": 1\n",
      "\"osm name\": \"SuperMarket advanced MT Walk-in Cooler - 80SF with no glass door - Fish\", \"walkin_name\": \"advanced MT Walk-in Cooler - 80SF with no glass door\", \"number_of_units\": 1\n",
      "\"osm name\": \"SuperMarket advanced MT Walk-in Cooler - 120SF with no glass door - Deli \", \"walkin_name\": \"advanced MT Walk-in Cooler - 120SF with no glass door\", \"number_of_units\": 1\n",
      "\"osm name\": \"SuperMarket advanced MT Walk-in Cooler - 400SF with no glass door - Produce \", \"walkin_name\": \"advanced MT Walk-in Cooler - 400SF with no glass door\", \"number_of_units\": 1\n",
      "\"osm name\": \"SuperMarket advanced MT Walk-in Cooler - 480SF with no glass door - Meat\", \"walkin_name\": \"advanced MT Walk-in Cooler - 480SF with no glass door\", \"number_of_units\": 1\n",
      "\"osm name\": \"SuperMarket advanced MT Walk-in Cooler - 600SF with no glass door - Meat Prep\", \"walkin_name\": \"advanced MT Walk-in Cooler - 600SF with no glass door\", \"number_of_units\": 1\n",
      "\"osm name\": \"SuperMarket advanced MT Walk-in Cooler - 480SF with glass door - Beer\", \"walkin_name\": \"advanced MT Walk-in Cooler - 480SF with glass door\", \"number_of_units\": 1\n",
      "\"osm name\": \"SuperMarket advanced MT Walk-in Cooler - 660SF with glass door - Dairy \", \"walkin_name\": \"advanced MT Walk-in Cooler - 660SF with glass door\", \"number_of_units\": 1\n"
     ]
    }
   ],
   "source": [
    "mode = select_test_mode()\n",
    "\n",
    "if mode == \"user\":\n",
    "    selected_case_units, selected_walkin_units, selected_template = user_mode()\n",
    "elif mode == \"automated\":\n",
    "    selected_case_units, selected_walkin_units, selected_template = automated_mode(db_path)\n",
    "\n",
    "# Selected Case Units\n",
    "print(\"\\nSelected Case Units:\")\n",
    "for unit in selected_case_units:\n",
    "    print(f\"\\\"osm name\\\": \\\"{unit.osm_name}\\\", \\\"case_name\\\": \\\"{unit.case_name}\\\", \\\"number_of_units\\\": {unit.number_of_units}\")\n",
    "\n",
    "# Selected Walk-in Units\n",
    "print(\"\\nSelected Walk-in Units:\")\n",
    "for unit in selected_walkin_units:\n",
    "    print(f\"\\\"osm name\\\": \\\"{unit.osm_name}\\\", \\\"walkin_name\\\": \\\"{unit.walkin_name}\\\", \\\"number_of_units\\\": {unit.number_of_units}\")"
   ]
  },
  {
   "cell_type": "markdown",
   "id": "18481b06",
   "metadata": {},
   "source": [
    "## Step 3: Rack Assignment"
   ]
  },
  {
   "cell_type": "code",
   "execution_count": 4,
   "id": "cbe7c38f",
   "metadata": {},
   "outputs": [
    {
     "name": "stdout",
     "output_type": "stream",
     "text": [
      "\n",
      "MT Racks:\n",
      "Rack 1: Total Capacity = 81644.64 W\n",
      "  - SuperMarket advanced MT Vertical Open - Others - Prepared Foods : 81644.64 W\n",
      "\n",
      "Rack 2: Total Capacity = 25132.32 W\n",
      "  - SuperMarket advanced MT Vertical Open - Meat - Meat : 25132.32 W\n",
      "\n",
      "Rack 3: Total Capacity = 29896.18 W\n",
      "  - SuperMarket advanced MT Service - Others - Bakery : 10385.28 W\n",
      "  - SuperMarket advanced MT Vertical Open - Beverage - Beverage : 7039.20 W\n",
      "  - advanced MT Walk-in Cooler - 660SF with glass door : 6460.70 W\n",
      "  - advanced MT Walk-in Cooler - 600SF with no glass door : 6011.00 W\n",
      "\n",
      "Rack 4: Total Capacity = 25574.20 W\n",
      "  - SuperMarket advanced MT Service - Meat - Meat : 5504.40 W\n",
      "  - advanced MT Walk-in Cooler - 480SF with no glass door : 5085.30 W\n",
      "  - advanced MT Walk-in Cooler - 480SF with glass door : 5085.30 W\n",
      "  - advanced MT Walk-in Cooler - 400SF with no glass door : 4448.80 W\n",
      "  - advanced MT Walk-in Cooler - 120SF with no glass door : 2098.20 W\n",
      "  - advanced MT Walk-in Cooler - 80SF with no glass door : 1746.90 W\n",
      "  - advanced MT Walk-in Cooler - 64SF with no glass door : 1605.30 W\n",
      "\n",
      "\n",
      "LT Racks:\n",
      "Rack 1: Total Capacity = 17623.20 W\n",
      "  - advanced LT Reach-in - Ice Cream : 17623.20 W\n",
      "\n",
      "Rack 2: Total Capacity = 16753.80 W\n",
      "  - advanced LT Reach-in - Frozen Food : 16753.80 W\n",
      "\n",
      "Rack 3: Total Capacity = 663.60 W\n",
      "  - advanced LT Coffin - Ice Cream : 663.60 W\n",
      "\n"
     ]
    }
   ],
   "source": [
    "# Assign refrigeration units to racks and retrieve updated data\n",
    "mt_racks, lt_racks, case_data, walkin_data = assign_racks_to_cases_and_walkins(\n",
    "    db_path, selected_case_units, selected_walkin_units\n",
    ")\n",
    "\n",
    "# display capacity distribution for assigned racks\n",
    "display_rack_capacity(mt_racks, selected_case_units, rack_type=\"MT\")\n",
    "display_rack_capacity(lt_racks, selected_walkin_units, rack_type=\"LT\")"
   ]
  },
  {
   "cell_type": "markdown",
   "id": "1f1d9670",
   "metadata": {},
   "source": [
    "# Step 4: Compressors + Condensers"
   ]
  },
  {
   "cell_type": "code",
   "execution_count": 5,
   "id": "fd97bd2c",
   "metadata": {
    "scrolled": true
   },
   "outputs": [
    {
     "name": "stdout",
     "output_type": "stream",
     "text": [
      "\n",
      "🧊 MT Rack Compressor Assignment:\n",
      "Rack 1: Load = 81644.64 W → Compressors Needed = 4\n",
      "Rack 2: Load = 25132.32 W → Compressors Needed = 2\n",
      "Rack 3: Load = 29896.18 W → Compressors Needed = 2\n",
      "Rack 4: Load = 25574.20 W → Compressors Needed = 2\n",
      "\n",
      "❄️ LT Rack Compressor Assignment:\n",
      "Rack 1: Load = 17623.20 W → Compressors Needed = 3\n",
      "Rack 2: Load = 16753.80 W → Compressors Needed = 2\n",
      "Rack 3: Load = 663.60 W → Compressors Needed = 2\n",
      "\n",
      "⚙️ Compressor Specs for the selected template 'advanced':\n",
      "🧊 MT → Capacity: 38099.93 W, Power: 15448.00 W, COP: 2.47, EER: 8.42\n",
      "❄️ LT → Capacity: 17181.96 W, Power: 9766.00 W, COP: 1.76, EER: 6.00\n",
      "✅ Compressor objects and performance curves ready.\n",
      "✅ Condenser and curve objects generated and stored in globals.\n"
     ]
    }
   ],
   "source": [
    "#calculate compfessor assignemnt for MT and LT racks\n",
    "mt_info, lt_info = summarize_compressor_assignment(mt_racks, lt_racks, selected_template)\n",
    "\n",
    "#Generate and store compressor and condenser object\n",
    "compressor_data = prepare_and_store_compressor_objects(mt_info, lt_info, selected_template, db_path)\n",
    "condenser_data = prepare_and_store_condenser_objects(mt_info, lt_info, selected_template)"
   ]
  },
  {
   "cell_type": "markdown",
   "id": "59fe6e5b",
   "metadata": {},
   "source": [
    "# Step 5: Generate and Store Case and Walk-in objects"
   ]
  },
  {
   "cell_type": "code",
   "execution_count": 6,
   "id": "4eabeda1",
   "metadata": {
    "scrolled": false
   },
   "outputs": [
    {
     "name": "stdout",
     "output_type": "stream",
     "text": [
      "✅ Case and walk-in objects generated and stored in globals.\n"
     ]
    }
   ],
   "source": [
    "prepare_and_store_case_and_walkin_objects(case_data, walkin_data, selected_case_units, selected_walkin_units)"
   ]
  },
  {
   "cell_type": "markdown",
   "id": "57d8e9e0",
   "metadata": {},
   "source": [
    "# Step 6: Generate and Store Refrigeration Systems and Case/Walkin Lists"
   ]
  },
  {
   "cell_type": "code",
   "execution_count": 7,
   "id": "103bcc40",
   "metadata": {},
   "outputs": [
    {
     "name": "stdout",
     "output_type": "stream",
     "text": [
      "✅ Refrigeration system objects stored in globals.\n"
     ]
    }
   ],
   "source": [
    "# Generate and store System and Case/Walkin List objects\n",
    "system_objects = generate_system_and_casewalkin_lists(\n",
    "    selected_case_units,\n",
    "    selected_walkin_units,\n",
    "    mt_racks,\n",
    "    lt_racks,\n",
    "    selected_template\n",
    ")\n",
    "\n",
    "# Pass the result to the next function instead of relying on globals\n",
    "prepare_and_store_system_and_casewalkin_lists(\n",
    "    selected_case_units,\n",
    "    selected_walkin_units,\n",
    "    mt_racks,\n",
    "    lt_racks,\n",
    "    selected_template\n",
    ")"
   ]
  },
  {
   "cell_type": "markdown",
   "id": "5aac1079",
   "metadata": {},
   "source": [
    "# Step 7: Preivew and Export JSON Files"
   ]
  },
  {
   "cell_type": "code",
   "execution_count": 11,
   "id": "917053fb",
   "metadata": {},
   "outputs": [
    {
     "name": "stdout",
     "output_type": "stream",
     "text": [
      "✅ Compressor objects and performance curves ready.\n",
      "✅ Compressor + Curve JSON with zones saved to: All_Compressors.json\n",
      "\n",
      "📦 OpenStudio JSON Preview:\n",
      "\n",
      "{\n",
      "  \"Version\": \"0.2.1\",\n",
      "  \"Building\": \"User Defined System\",\n",
      "  \"objects\": [\n",
      "    {\n",
      "      \"type\": \"OS:ThermalZone\",\n",
      "      \"name\": \"MainSales\"\n",
      "    },\n",
      "    {\n",
      "      \"type\": \"OS:ThermalZone\",\n",
      "      \"name\": \"ActiveStorage\"\n",
      "    },\n",
      "    \"mt_power_curve\",\n",
      "    \"mt_capacity_curve\",\n",
      "    \"lt_power_curve\",\n",
      "    \"lt_capacity_curve\",\n",
      "    \"mt_compressors\",\n",
      "    \"lt_compressors\"\n",
      "  ]\n",
      "}\n"
     ]
    }
   ],
   "source": [
    "# Prepare and store compressor objects\n",
    "mt_compressors, lt_compressors, mt_power_curve, mt_capacity_curve, lt_power_curve, lt_capacity_curve = prepare_and_store_compressor_objects(\n",
    "    mt_info, lt_info, selected_template, db_path\n",
    ")\n",
    "\n",
    "# Export compressor data to JSON\n",
    "export_existing_compressors_to_json(\n",
    "    mt_compressors=mt_compressors,\n",
    "    lt_compressors=lt_compressors,\n",
    "    mt_power_curve=mt_power_curve,\n",
    "    mt_capacity_curve=mt_capacity_curve,\n",
    "    lt_power_curve=lt_power_curve,\n",
    "    lt_capacity_curve=lt_capacity_curve,\n",
    "    output_path=\"All_Compressors.json\"\n",
    ")\n"
   ]
  },
  {
   "cell_type": "code",
   "execution_count": 9,
   "id": "8a616e74",
   "metadata": {},
   "outputs": [
    {
     "name": "stdout",
     "output_type": "stream",
     "text": [
      "<class 'str'>\n",
      "<class 'str'>\n",
      "<class 'str'>\n",
      "<class 'str'>\n",
      "<class 'str'>\n",
      "<class 'str'>\n"
     ]
    }
   ],
   "source": [
    "print(type(mt_power_curve))\n",
    "print(type(mt_capacity_curve))\n",
    "print(type(lt_power_curve))\n",
    "print(type(lt_capacity_curve))\n",
    "print(type(mt_compressors))\n",
    "print(type(lt_compressors))"
   ]
  },
  {
   "cell_type": "code",
   "execution_count": null,
   "id": "15fa8c4c",
   "metadata": {},
   "outputs": [],
   "source": [
    "prepare_and_store_compressor_objects(mt_info, lt_info, selected_template, db_path)\n",
    "export_existing_condensers_to_json_from_globals(\"All_Condensers.json\")\n"
   ]
  },
  {
   "cell_type": "code",
   "execution_count": null,
   "id": "cfd6e5a3",
   "metadata": {},
   "outputs": [],
   "source": [
    "export_cases_and_walkins_to_json_from_globals(\"All_Cases_Walkins.json\")\n"
   ]
  },
  {
   "cell_type": "code",
   "execution_count": null,
   "id": "b0adc790",
   "metadata": {},
   "outputs": [],
   "source": [
    "export_refrigeration_system_objects_to_json_from_global(\"CaseWalkin_List.json\")"
   ]
  },
  {
   "cell_type": "code",
   "execution_count": null,
   "id": "d32de6a1",
   "metadata": {},
   "outputs": [],
   "source": [
    "\n",
    "export_full_refrigeration_system_to_json_from_globals(\"Full_Refrigeration_System.json\")\n",
    "print(\"🏁 Refrigeration JSON export complete.\")\n",
    "print(f\"Building: {get_building_name()}\")"
   ]
  }
 ],
 "metadata": {
  "kernelspec": {
   "display_name": "Python 3 (ipykernel)",
   "language": "python",
   "name": "python3"
  },
  "language_info": {
   "codemirror_mode": {
    "name": "ipython",
    "version": 3
   },
   "file_extension": ".py",
   "mimetype": "text/x-python",
   "name": "python",
   "nbconvert_exporter": "python",
   "pygments_lexer": "ipython3",
   "version": "3.12.3"
  }
 },
 "nbformat": 4,
 "nbformat_minor": 5
}
