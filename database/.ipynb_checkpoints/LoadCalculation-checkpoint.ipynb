{
 "cells": [
  {
   "cell_type": "code",
   "execution_count": 2,
   "id": "7669ba59",
   "metadata": {},
   "outputs": [],
   "source": [
    "import sqlite3, shutil"
   ]
  },
  {
   "cell_type": "code",
   "execution_count": 4,
   "id": "57667511",
   "metadata": {},
   "outputs": [
    {
     "data": {
      "text/plain": [
       "'openstudio_refrigeration_system_wk.db'"
      ]
     },
     "execution_count": 4,
     "metadata": {},
     "output_type": "execute_result"
    }
   ],
   "source": [
    "shutil.copy('openstudio_refrigeration_system.db', 'openstudio_refrigeration_system_wk.db')"
   ]
  },
  {
   "cell_type": "markdown",
   "id": "bffff614",
   "metadata": {},
   "source": [
    "##### Connect working database"
   ]
  },
  {
   "cell_type": "code",
   "execution_count": 7,
   "id": "7b02bf02",
   "metadata": {},
   "outputs": [],
   "source": [
    "conn=sqlite3.connect('openstudio_refrigeration_system_wk.db')\n",
    "cursor = conn.cursor()"
   ]
  },
  {
   "cell_type": "code",
   "execution_count": null,
   "id": "662d48da",
   "metadata": {},
   "outputs": [],
   "source": []
  }
 ],
 "metadata": {
  "kernelspec": {
   "display_name": "Python 3 (ipykernel)",
   "language": "python",
   "name": "python3"
  },
  "language_info": {
   "codemirror_mode": {
    "name": "ipython",
    "version": 3
   },
   "file_extension": ".py",
   "mimetype": "text/x-python",
   "name": "python",
   "nbconvert_exporter": "python",
   "pygments_lexer": "ipython3",
   "version": "3.12.3"
  }
 },
 "nbformat": 4,
 "nbformat_minor": 5
}
