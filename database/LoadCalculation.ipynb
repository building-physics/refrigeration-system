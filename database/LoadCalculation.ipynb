{
 "cells": [
  {
   "cell_type": "code",
   "execution_count": 219,
   "id": "28104e2c",
   "metadata": {},
   "outputs": [],
   "source": [
    "import sqlite3, shutil"
   ]
  },
  {
   "cell_type": "code",
   "execution_count": 220,
   "id": "51141e5c",
   "metadata": {},
   "outputs": [],
   "source": [
    "shutil.copy(\"openstudio_refrigeration_system.db\", \"openstudio_refrigeration_system_wk.db\")\n",
    "db_path=\"openstudio_refrigeration_system_wk.db\""
   ]
  },
  {
   "cell_type": "markdown",
   "id": "b1a0e8b0",
   "metadata": {},
   "source": [
    "##### Select Cases and walk-in units"
   ]
  },
  {
   "cell_type": "code",
   "execution_count": 227,
   "id": "67b91511",
   "metadata": {},
   "outputs": [],
   "source": [
    "def calculate_cooling_capacity(unit_rated_capacity, unit_length, number_of_units):\n",
    "    # calculate total rated cooling capacity per each case type\n",
    "    if unit_rated_capacity <= 0:\n",
    "        raise ValueError(f\"Invalid unit rated capacity: {unit_rated_capacity}\")\n",
    "\n",
    "    if unit_length <= 0:\n",
    "        raise ValueError(f\"Invalid unit length: {unit_length}\")\n",
    "\n",
    "    if number_of_units <= 0:\n",
    "        raise ValueError(f\"Invalid number of units: {number_of_units}\")\n",
    "\n",
    "    return unit_rated_capacity * unit_length * number_of_units\n",
    "\n",
    "def get_data_from_db(db_path, selected_case_units, selected_walkin_units):\n",
    "    conn = sqlite3.connect(db_path)\n",
    "    cursor = conn.cursor()\n",
    "\n",
    "    case_data = {}\n",
    "    walkin_data = {}\n",
    "\n",
    "    if selected_case_units:\n",
    "        placeholders = ', '.join(['?'] * len(selected_case_units))\n",
    "        query = f\"SELECT case_name, template, operation_type, rated_capacity, unit_length FROM refrigeration_cases WHERE case_name IN ({placeholders})\"\n",
    "        cursor.execute(query, list(selected_case_units.keys()))\n",
    "        \n",
    "        for case_name, template, operation_type, rated_capacity, unit_length in cursor.fetchall():\n",
    "            unit_count = selected_case_units.get(case_name, 0)\n",
    "            total_rated_capacity = calculate_cooling_capacity(rated_capacity, unit_length, unit_count)\n",
    "            case_data[case_name] = {\n",
    "                \"template\": template,\n",
    "                \"operation_type\": operation_type,\n",
    "                \"rated_capacity\": rated_capacity,\n",
    "                \"unit_length\": unit_length,\n",
    "                \"unit_count\": unit_count,\n",
    "                \"total_rated_capacity\": total_rated_capacity\n",
    "            }\n",
    "\n",
    "    if selected_walkin_units:\n",
    "        placeholders = ', '.join(['?'] * len(selected_walkin_units))\n",
    "        query = f\"SELECT walkin_name, template, operation_type, rated_capacity FROM refrigeration_walkins WHERE walkin_name IN ({placeholders})\"\n",
    "        cursor.execute(query, list(selected_walkin_units))\n",
    "\n",
    "        for walkin_name, template, operation_type, rated_capacity in cursor.fetchall():\n",
    "            walkin_data[walkin_name] = {\n",
    "                \"template\": template,\n",
    "                \"operation_type\": operation_type,\n",
    "                \"rated_capacity\": rated_capacity\n",
    "            }\n",
    "\n",
    "    conn.close()\n",
    "    return case_data, walkin_data"
   ]
  },
  {
   "cell_type": "markdown",
   "id": "edf4f6e8",
   "metadata": {},
   "source": [
    "#### TEST"
   ]
  },
  {
   "cell_type": "code",
   "execution_count": 228,
   "id": "c5280ad5",
   "metadata": {
    "scrolled": true
   },
   "outputs": [
    {
     "name": "stdout",
     "output_type": "stream",
     "text": [
      "Case Data:\n",
      "{'Old LT Coffin - Ice Cream': {'template': 'old', 'operation_type': 'LT', 'rated_capacity': 695.2, 'unit_length': 2.0, 'unit_count': 2, 'total_rated_capacity': 2780.8}, 'Old LT Reach-in - Frozen Food': {'template': 'old', 'operation_type': 'LT', 'rated_capacity': 583.7, 'unit_length': 3.0, 'unit_count': 1, 'total_rated_capacity': 1751.1000000000001}, 'Old MT Vertical Open - All': {'template': 'old', 'operation_type': 'MT', 'rated_capacity': 1437.6, 'unit_length': 2.4, 'unit_count': 5, 'total_rated_capacity': 17251.199999999997}}\n",
      "{'Old LT Walk-in Freezer - 480SF': {'template': 'old', 'operation_type': 'LT', 'rated_capacity': 7725.5}, 'Old MT Walk-in Cooler - 120SF with no glass door': {'template': 'old', 'operation_type': 'MT', 'rated_capacity': 3313.2}}\n"
     ]
    }
   ],
   "source": [
    "selected_case_units = {\n",
    "    \"Old LT Coffin - Ice Cream\": 2,\n",
    "    \"Old LT Reach-in - Frozen Food\": 1,\n",
    "    \"Old MT Vertical Open - All\":5\n",
    "}\n",
    "\n",
    "selected_walkin_units = {\n",
    "    \"Old MT Walk-in Cooler - 120SF with no glass door\",\n",
    "    \"Old LT Walk-in Freezer - 480SF\"\n",
    "}\n",
    "\n",
    "\n",
    "case_data = get_case_data_from_db(db_path, selected_case_units)\n",
    "print(\"Case Data:\")\n",
    "print(case_data)\n",
    "\n",
    "\n",
    "walkin_data = get_walkin_data_from_db(db_path, selected_walkin_units)\n",
    "print(walkin_data)"
   ]
  },
  {
   "cell_type": "markdown",
   "id": "f011f347",
   "metadata": {},
   "source": [
    "#### Allocate cases to each rack"
   ]
  },
  {
   "cell_type": "code",
   "execution_count": 239,
   "id": "ef74e8cb",
   "metadata": {},
   "outputs": [],
   "source": [
    "def assign_racks_to_cases_and_walkins(db_path, selected_case_units, selected_walkin_units, max_capacity_per_rack=30000):\n",
    "    # get case and walkin data from DB\n",
    "    case_data, walkin_data = get_data_from_db(db_path, selected_case_units, selected_walkin_units)\n",
    "    \n",
    "    # assign cases and walkins to MT rack and LT rack\n",
    "    mt_racks = []\n",
    "    lt_racks = []\n",
    "\n",
    "    def distribute_units(data, racks, max_capacity_per_rack, is_walkin=False):\n",
    "        units = sorted(\n",
    "            data.items(),\n",
    "            key=lambda x: x[1]['rated_capacity'] if is_walkin else x[1].get('total_rated_capacity', 0),\n",
    "            reverse=True\n",
    "        )\n",
    "\n",
    "        current_rack = []\n",
    "        current_capacity = 0\n",
    "\n",
    "        for name, item in units:\n",
    "            # If it's a walkin, use rated_capacity, else use total_rated_capacity for cases\n",
    "            if is_walkin:\n",
    "                total_capacity = item['rated_capacity']\n",
    "            else:\n",
    "                total_capacity = item.get('total_rated_capacity', item['rated_capacity'])\n",
    "\n",
    "            # If adding this unit to the current rack does not exceed the max capacity, add it\n",
    "            if current_capacity + total_capacity <= max_capacity_per_rack:\n",
    "                current_rack.append({'name': name, 'capacity': total_capacity})\n",
    "                current_capacity += total_capacity\n",
    "            else:\n",
    "                if current_rack:\n",
    "                    racks.append(current_rack)\n",
    "                current_rack = [{'name': name, 'capacity': total_capacity}]\n",
    "                current_capacity = total_capacity\n",
    "\n",
    "        if current_rack:\n",
    "            racks.append(current_rack)\n",
    "\n",
    "    # Assign to MT rack, combining case and walkin units together\n",
    "    mt_data = {**{name: case for name, case in case_data.items() if 'MT' in name}, **{name: walkin for name, walkin in walkin_data.items() if 'MT' in name}}\n",
    "    distribute_units(mt_data, mt_racks, max_capacity_per_rack)\n",
    "\n",
    "    # Assign to LT rack, combining case and walkin units together\n",
    "    lt_data = {**{name: case for name, case in case_data.items() if 'LT' in name}, **{name: walkin for name, walkin in walkin_data.items() if 'LT' in name}}\n",
    "    distribute_units(lt_data, lt_racks, max_capacity_per_rack)\n",
    "    \n",
    "    return mt_racks, lt_racks\n",
    "\n",
    "def display_rack_capacity(racks):\n",
    "    for i, rack in enumerate(racks, 1):\n",
    "        total_capacity = sum(item['capacity'] for item in rack)\n",
    "        print(f\"Rack {i}: Total Capacity = {total_capacity} W\")\n",
    "        for item in rack:\n",
    "            print(f\"  - {item['name']} : {item['capacity']} W\")\n",
    "        print()"
   ]
  },
  {
   "cell_type": "markdown",
   "id": "a44408f8",
   "metadata": {},
   "source": [
    "#### TEST"
   ]
  },
  {
   "cell_type": "code",
   "execution_count": 240,
   "id": "24515d92",
   "metadata": {},
   "outputs": [
    {
     "name": "stdout",
     "output_type": "stream",
     "text": [
      "Case Data:\n",
      "{'Old LT Coffin - Ice Cream': {'template': 'old', 'operation_type': 'LT', 'rated_capacity': 695.2, 'unit_length': 2.0, 'unit_count': 2, 'total_rated_capacity': 2780.8}, 'Old LT Reach-in - Frozen Food': {'template': 'old', 'operation_type': 'LT', 'rated_capacity': 583.7, 'unit_length': 3.0, 'unit_count': 1, 'total_rated_capacity': 1751.1000000000001}, 'Old MT Vertical Open - All': {'template': 'old', 'operation_type': 'MT', 'rated_capacity': 1437.6, 'unit_length': 2.4, 'unit_count': 5, 'total_rated_capacity': 17251.199999999997}}\n",
      "{'Old LT Walk-in Freezer - 480SF': {'template': 'old', 'operation_type': 'LT', 'rated_capacity': 7725.5}, 'Old MT Walk-in Cooler - 120SF with no glass door': {'template': 'old', 'operation_type': 'MT', 'rated_capacity': 3313.2}}\n"
     ]
    }
   ],
   "source": [
    "selected_case_units = {\n",
    "    \"Old LT Coffin - Ice Cream\": 2,\n",
    "    \"Old LT Reach-in - Frozen Food\": 1,\n",
    "    \"Old MT Vertical Open - All\":5\n",
    "}\n",
    "\n",
    "selected_walkin_units = {\n",
    "    \"Old MT Walk-in Cooler - 120SF with no glass door\",\n",
    "    \"Old LT Walk-in Freezer - 480SF\"\n",
    "}\n",
    "\n",
    "\n",
    "case_data = get_case_data_from_db(db_path, selected_case_units)\n",
    "print(\"Case Data:\")\n",
    "print(case_data)\n",
    "\n",
    "\n",
    "walkin_data = get_walkin_data_from_db(db_path, selected_walkin_units)\n",
    "print(walkin_data)"
   ]
  },
  {
   "cell_type": "code",
   "execution_count": 241,
   "id": "9cd33c19",
   "metadata": {},
   "outputs": [
    {
     "name": "stdout",
     "output_type": "stream",
     "text": [
      "MT Racks:\n",
      "Rack 1: Total Capacity = 20564.399999999998 W\n",
      "  - Old MT Vertical Open - All : 17251.199999999997 W\n",
      "  - Old MT Walk-in Cooler - 120SF with no glass door : 3313.2 W\n",
      "\n",
      "LT Racks:\n",
      "Rack 1: Total Capacity = 12257.4 W\n",
      "  - Old LT Coffin - Ice Cream : 2780.8 W\n",
      "  - Old LT Reach-in - Frozen Food : 1751.1000000000001 W\n",
      "  - Old LT Walk-in Freezer - 480SF : 7725.5 W\n",
      "\n"
     ]
    }
   ],
   "source": [
    "mt_racks, lt_racks = assign_racks_to_cases_and_walkins(db_path, selected_case_units, selected_walkin_units)\n",
    "\n",
    "\n",
    "print(\"MT Racks:\")\n",
    "display_rack_capacity(mt_racks)\n",
    "\n",
    "print(\"LT Racks:\")\n",
    "display_rack_capacity(lt_racks)"
   ]
  },
  {
   "cell_type": "code",
   "execution_count": 242,
   "id": "7d8cd7de",
   "metadata": {},
   "outputs": [
    {
     "name": "stdout",
     "output_type": "stream",
     "text": [
      "Case Data:\n",
      "{'Old LT Coffin - Ice Cream': {'template': 'old', 'operation_type': 'LT', 'rated_capacity': 695.2, 'unit_length': 2.0, 'unit_count': 3, 'total_rated_capacity': 4171.200000000001}, 'Old LT Reach-in - Frozen Food': {'template': 'old', 'operation_type': 'LT', 'rated_capacity': 583.7, 'unit_length': 3.0, 'unit_count': 3, 'total_rated_capacity': 5253.3}, 'Old MT Service - Meat Deli Bakery': {'template': 'old', 'operation_type': 'MT', 'rated_capacity': 808.0, 'unit_length': 2.4, 'unit_count': 4, 'total_rated_capacity': 7756.799999999999}, 'Old MT Vertical Open - All': {'template': 'old', 'operation_type': 'MT', 'rated_capacity': 1437.6, 'unit_length': 2.4, 'unit_count': 10, 'total_rated_capacity': 34502.399999999994}}\n",
      "{'Old LT Walk-in Freezer - 480SF': {'template': 'old', 'operation_type': 'LT', 'rated_capacity': 7725.5}, 'Old MT Walk-in Cooler - 120SF with no glass door': {'template': 'old', 'operation_type': 'MT', 'rated_capacity': 3313.2}, 'Old MT Walk-in Cooler - 64SF with glass door': {'template': 'old', 'operation_type': 'MT', 'rated_capacity': 2494.0}}\n",
      "MT Racks:\n",
      "Rack 1: Total Capacity = 34502.399999999994 W\n",
      "  - Old MT Vertical Open - All : 34502.399999999994 W\n",
      "\n",
      "Rack 2: Total Capacity = 13564.0 W\n",
      "  - Old MT Service - Meat Deli Bakery : 7756.799999999999 W\n",
      "  - Old MT Walk-in Cooler - 120SF with no glass door : 3313.2 W\n",
      "  - Old MT Walk-in Cooler - 64SF with glass door : 2494.0 W\n",
      "\n",
      "LT Racks:\n",
      "Rack 1: Total Capacity = 17150.0 W\n",
      "  - Old LT Reach-in - Frozen Food : 5253.3 W\n",
      "  - Old LT Coffin - Ice Cream : 4171.200000000001 W\n",
      "  - Old LT Walk-in Freezer - 480SF : 7725.5 W\n",
      "\n"
     ]
    }
   ],
   "source": [
    "selected_case_units = {\n",
    "    \"Old LT Coffin - Ice Cream\": 3,\n",
    "    \"Old LT Reach-in - Frozen Food\": 3,\n",
    "    \"Old MT Vertical Open - All\":10,\n",
    "    \"Old MT Service - Meat Deli Bakery\":4\n",
    "}\n",
    "\n",
    "selected_walkin_units = {\n",
    "    \"Old MT Walk-in Cooler - 120SF with no glass door\",\n",
    "    \"Old LT Walk-in Freezer - 480SF\",\n",
    "    \"Old MT Walk-in Cooler - 64SF with glass door\"\n",
    "}\n",
    "\n",
    "\n",
    "case_data = get_case_data_from_db(db_path, selected_case_units)\n",
    "print(\"Case Data:\")\n",
    "print(case_data)\n",
    "\n",
    "\n",
    "walkin_data = get_walkin_data_from_db(db_path, selected_walkin_units)\n",
    "print(walkin_data)\n",
    "mt_racks, lt_racks = assign_racks_to_cases_and_walkins(db_path, selected_case_units, selected_walkin_units)\n",
    "\n",
    "\n",
    "print(\"MT Racks:\")\n",
    "display_rack_capacity(mt_racks)\n",
    "\n",
    "print(\"LT Racks:\")\n",
    "display_rack_capacity(lt_racks)"
   ]
  },
  {
   "cell_type": "code",
   "execution_count": null,
   "id": "c0b28ed7",
   "metadata": {},
   "outputs": [],
   "source": []
  }
 ],
 "metadata": {
  "kernelspec": {
   "display_name": "Python 3 (ipykernel)",
   "language": "python",
   "name": "python3"
  },
  "language_info": {
   "codemirror_mode": {
    "name": "ipython",
    "version": 3
   },
   "file_extension": ".py",
   "mimetype": "text/x-python",
   "name": "python",
   "nbconvert_exporter": "python",
   "pygments_lexer": "ipython3",
   "version": "3.12.3"
  }
 },
 "nbformat": 4,
 "nbformat_minor": 5
}
