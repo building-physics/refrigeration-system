{
 "cells": [
  {
   "cell_type": "code",
   "execution_count": 2,
   "id": "28104e2c",
   "metadata": {},
   "outputs": [],
   "source": [
    "import sqlite3, shutil"
   ]
  },
  {
   "cell_type": "code",
   "execution_count": 4,
   "id": "51141e5c",
   "metadata": {},
   "outputs": [
    {
     "data": {
      "text/plain": [
       "'openstudio_refrigeration_system_wk.db'"
      ]
     },
     "execution_count": 4,
     "metadata": {},
     "output_type": "execute_result"
    }
   ],
   "source": [
    "shutil.copy('openstudio_refrigeration_system.db', 'openstudio_refrigeration_system_wk.db')"
   ]
  },
  {
   "cell_type": "markdown",
   "id": "2b86cb51",
   "metadata": {},
   "source": [
    "##### Connect working database"
   ]
  },
  {
   "cell_type": "code",
   "execution_count": 7,
   "id": "c06ed661",
   "metadata": {},
   "outputs": [],
   "source": [
    "conn=sqlite3.connect('openstudio_refrigeration_system_wk.db')\n",
    "cursor = conn.cursor()"
   ]
  },
  {
   "cell_type": "markdown",
   "id": "b1a0e8b0",
   "metadata": {},
   "source": [
    "##### Determine user input/default system for Case and Walk-in"
   ]
  },
  {
   "cell_type": "code",
   "execution_count": null,
   "id": "67b91511",
   "metadata": {},
   "outputs": [],
   "source": []
  }
 ],
 "metadata": {
  "kernelspec": {
   "display_name": "Python 3 (ipykernel)",
   "language": "python",
   "name": "python3"
  },
  "language_info": {
   "codemirror_mode": {
    "name": "ipython",
    "version": 3
   },
   "file_extension": ".py",
   "mimetype": "text/x-python",
   "name": "python",
   "nbconvert_exporter": "python",
   "pygments_lexer": "ipython3",
   "version": "3.12.3"
  }
 },
 "nbformat": 4,
 "nbformat_minor": 5
}
